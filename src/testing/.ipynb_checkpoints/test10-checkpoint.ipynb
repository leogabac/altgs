{
 "cells": [
  {
   "cell_type": "markdown",
   "id": "354d6e67",
   "metadata": {},
   "source": [
    "# Test 01"
   ]
  },
  {
   "cell_type": "code",
   "execution_count": 2,
   "id": "f73c5e29",
   "metadata": {},
   "outputs": [],
   "source": [
    "import os\n",
    "import sys\n",
    "\n",
    "import numpy as np\n",
    "import pandas as pd\n",
    "\n",
    "from tqdm import tqdm\n",
    "from IPython.display import clear_output\n",
    "\n",
    "import matplotlib.pyplot as plt\n",
    "\n",
    "sys.path.insert(0, '../../../icenumerics/')\n",
    "sys.path.insert(0, '../auxnumerics/')\n",
    "\n",
    "import icenumerics as ice\n",
    "import auxiliary as aux\n",
    "\n",
    "from parameters import params\n",
    "\n",
    "%reload_ext autoreload\n",
    "%autoreload 2\n",
    "\n",
    "ureg = ice.ureg\n",
    "idx = pd.IndexSlice"
   ]
  },
  {
   "cell_type": "code",
   "execution_count": 3,
   "id": "58f2130a",
   "metadata": {},
   "outputs": [],
   "source": [
    "plt.rcParams.update({\n",
    "    \"pgf.texsystem\": \"pdflatex\",\n",
    "    'font.family': 'serif',\n",
    "    'text.usetex': True,\n",
    "    'pgf.rcfonts': False,\n",
    "})"
   ]
  },
  {
   "cell_type": "code",
   "execution_count": 5,
   "id": "089cf06d",
   "metadata": {},
   "outputs": [],
   "source": [
    "DATA_PATH = '../../data/test10'\n",
    "VRT_PATH = os.path.join(DATA_PATH,'10','vertices')"
   ]
  },
  {
   "cell_type": "markdown",
   "id": "413fcc4a",
   "metadata": {},
   "source": [
    "## Sanity check\n",
    "\n",
    "Just checking the the field profile is correct"
   ]
  },
  {
   "cell_type": "code",
   "execution_count": 7,
   "id": "cf5c79bf",
   "metadata": {
    "scrolled": true
   },
   "outputs": [
    {
     "data": {
      "image/png": "[encoded data removed]",
      "text/plain": [
       "<Figure size 1350x300 with 3 Axes>"
      ]
     },
     "metadata": {},
     "output_type": "display_data"
    }
   ],
   "source": [
    "ctrj_raw = pd.read_csv(os.path.join(DATA_PATH,'10','trj/trj1.csv'), index_col=[0,1])\n",
    "\n",
    "fig, axes = plt.subplots(1,3,figsize=(9,2),dpi=150)\n",
    "\n",
    "ax = axes[0]\n",
    "ax.plot(np.array(ctrj_raw.loc[idx[:,1],\"t\"]),np.array(ctrj_raw.loc[idx[:,1],\"mux\"]))\n",
    "ax.set_title(\"$\\\\sim B_x$\")\n",
    "\n",
    "ax = axes[1]\n",
    "ax.plot(np.array(ctrj_raw.loc[idx[:,1],\"t\"]),np.array(ctrj_raw.loc[idx[:,1],\"muy\"]))\n",
    "ax.set_title(\"$\\\\sim B_y$\")\n",
    "\n",
    "ax = axes[2]\n",
    "ax.plot(np.array(ctrj_raw.loc[idx[:,1],\"t\"]),np.array(ctrj_raw.loc[idx[:,1],\"muz\"]))\n",
    "ax.set_title(\"$\\\\sim B_z$\")\n",
    "\n",
    "plt.show()"
   ]
  },
  {
   "cell_type": "markdown",
   "id": "a7b1a865",
   "metadata": {},
   "source": [
    "## Vertex counting"
   ]
  },
  {
   "cell_type": "code",
   "execution_count": 8,
   "id": "858a7c65",
   "metadata": {},
   "outputs": [],
   "source": [
    "def do_vertices_shit(data_path):\n",
    "    vrt_path = os.path.join(data_path,\"vertices/\")\n",
    "    vertices = aux.vrt_dict(vrt_path)\n",
    "    counts = aux.vrt_counts(vertices)\n",
    "    vrt_ts = aux.vrt_averages(counts,params[\"framespersec\"])\n",
    "    types = vrt_ts.columns.to_list()[1:]\n",
    "    t = vrt_ts[\"time\"].to_numpy()\n",
    "    print(types)\n",
    "    vrt_counts = vrt_ts[types].to_numpy()\n",
    "    return t, vrt_counts"
   ]
  },
  {
   "cell_type": "code",
   "execution_count": 9,
   "id": "e31cd59d",
   "metadata": {
    "scrolled": true
   },
   "outputs": [
    {
     "name": "stdout",
     "output_type": "stream",
     "text": [
      "['1.0', '2.0', '3.0', '4.0', '5.0', '6.0']\n"
     ]
    },
    {
     "name": "stderr",
     "output_type": "stream",
     "text": [
      "/home/frieren/.virtualenvs/globalenv/lib/python3.12/site-packages/pandas/core/construction.py:632: UnitStrippedWarning: The unit of the quantity is stripped when downcasting to ndarray.\n",
      "  data = np.array(data, copy=copy)\n"
     ]
    }
   ],
   "source": [
    "t,vrt_counts = do_vertices_shit(os.path.join(DATA_PATH,'10'))\n",
    "types = ['I','II','III','IV','V','VI']"
   ]
  },
  {
   "cell_type": "code",
   "execution_count": 10,
   "id": "b82bc3ae",
   "metadata": {},
   "outputs": [
    {
     "data": {
      "text/plain": [
       "array([1., 1., 1., ..., 1., 1., 1.])"
      ]
     },
     "execution_count": 10,
     "metadata": {},
     "output_type": "execute_result"
    }
   ],
   "source": [
    "np.sum(vrt_counts,axis=1)"
   ]
  },
  {
   "cell_type": "code",
   "execution_count": 12,
   "id": "ec25f4e9",
   "metadata": {},
   "outputs": [
    {
     "data": {
      "image/png": "[encoded data removed]",
      "text/plain": [
       "<Figure size 1000x600 with 1 Axes>"
      ]
     },
     "metadata": {},
     "output_type": "display_data"
    }
   ],
   "source": [
    "colors = ['#2200cf','#606cff', '#00a92a', '#5d6061', '#ff514c','#ca0600'  ]\n",
    "\n",
    "fig, ax = plt.subplots(figsize=(10,6))\n",
    "for i, (tp,ts) in enumerate(zip(types,vrt_counts.T)):\n",
    "    ax.plot(t, ts, color=colors[i], label=tp)\n",
    "ax.set_ylim(0,1.1)\n",
    "ax.set_xlim(0,60)\n",
    "ax.axvspan(0,60,alpha=0.05, color='red')\n",
    "ax.axvspan(60,120,alpha=0.05, color='blue')\n",
    "ax.axvspan(120,180,alpha=0.05, color='green')\n",
    "ax.legend(fontsize=15)\n",
    "ax.grid()\n",
    "plt.show()"
   ]
  },
  {
   "cell_type": "code",
   "execution_count": 42,
   "id": "4da5d89a",
   "metadata": {},
   "outputs": [
    {
     "data": {
      "text/plain": [
       "(3600, 6)"
      ]
     },
     "execution_count": 42,
     "metadata": {},
     "output_type": "execute_result"
    }
   ],
   "source": [
    "vrt_counts.shape"
   ]
  },
  {
   "cell_type": "code",
   "execution_count": 44,
   "id": "a8a85848",
   "metadata": {},
   "outputs": [
    {
     "name": "stdout",
     "output_type": "stream",
     "text": [
      "Max for -4: 0.433\n",
      "Max for +4: 0.43200000000000005\n",
      "Max for -2: 0.06600000000000002\n",
      "Max for +2: 0.06799999999999999\n"
     ]
    }
   ],
   "source": [
    "frame = int(3600/2)\n",
    "print('Max for -4:',np.max(vrt_counts[frame,0]))\n",
    "print('Max for +4:',np.max(vrt_counts[frame,5]))\n",
    "print('Max for -2:',np.max(vrt_counts[frame,1]))\n",
    "print('Max for +2:',np.max(vrt_counts[frame,4]))"
   ]
  },
  {
   "cell_type": "code",
   "execution_count": null,
   "id": "9cc98517",
   "metadata": {},
   "outputs": [],
   "source": []
  }
 ],
 "metadata": {
  "kernelspec": {
   "display_name": "Python 3 (ipykernel)",
   "language": "python",
   "name": "python3"
  },
  "language_info": {
   "codemirror_mode": {
    "name": "ipython",
    "version": 3
   },
   "file_extension": ".py",
   "mimetype": "text/x-python",
   "name": "python",
   "nbconvert_exporter": "python",
   "pygments_lexer": "ipython3",
   "version": "3.12.3"
  },
  "varInspector": {
   "cols": {
    "lenName": 16,
    "lenType": 16,
    "lenVar": 40
   },
   "kernels_config": {
    "python": {
     "delete_cmd_postfix": "",
     "delete_cmd_prefix": "del ",
     "library": "var_list.py",
     "varRefreshCmd": "print(var_dic_list())"
    },
    "r": {
     "delete_cmd_postfix": ") ",
     "delete_cmd_prefix": "rm(",
     "library": "var_list.r",
     "varRefreshCmd": "cat(var_dic_list()) "
    }
   },
   "types_to_exclude": [
    "module",
    "function",
    "builtin_function_or_method",
    "instance",
    "_Feature"
   ],
   "window_display": false
  }
 },
 "nbformat": 4,
 "nbformat_minor": 5
}
