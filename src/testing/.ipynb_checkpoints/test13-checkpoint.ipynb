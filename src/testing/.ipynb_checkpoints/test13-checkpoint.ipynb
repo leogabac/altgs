{
 "cells": [
  {
   "cell_type": "markdown",
   "id": "9c71b445",
   "metadata": {},
   "source": [
    "# Test 01"
   ]
  },
  {
   "cell_type": "code",
   "execution_count": 1,
   "id": "46d66939",
   "metadata": {},
   "outputs": [],
   "source": [
    "import os\n",
    "import sys\n",
    "\n",
    "import numpy as np\n",
    "import pandas as pd\n",
    "\n",
    "from tqdm import tqdm\n",
    "from IPython.display import clear_output\n",
    "\n",
    "import matplotlib.pyplot as plt\n",
    "\n",
    "sys.path.insert(0, '../../../icenumerics/')\n",
    "sys.path.insert(0, '../auxnumerics/')\n",
    "\n",
    "import icenumerics as ice\n",
    "import auxiliary as aux\n",
    "\n",
    "from parameters import params\n",
    "\n",
    "%reload_ext autoreload\n",
    "%autoreload 2\n",
    "\n",
    "ureg = ice.ureg\n",
    "idx = pd.IndexSlice"
   ]
  },
  {
   "cell_type": "code",
   "execution_count": 14,
   "id": "b3745443",
   "metadata": {},
   "outputs": [],
   "source": [
    "plt.rcParams.update({\n",
    "    \"pgf.texsystem\": \"pdflatex\",\n",
    "    'font.family': 'serif',\n",
    "    'text.usetex': True,\n",
    "    'pgf.rcfonts': False,\n",
    "})"
   ]
  },
  {
   "cell_type": "code",
   "execution_count": 2,
   "id": "e1f07c16",
   "metadata": {},
   "outputs": [],
   "source": [
    "DATA_PATH = '../../data/test13'"
   ]
  },
  {
   "cell_type": "markdown",
   "id": "b2d5074f",
   "metadata": {},
   "source": [
    "## Sanity check\n",
    "\n",
    "Just checking the the field profile is correct"
   ]
  },
  {
   "cell_type": "code",
   "execution_count": 4,
   "id": "575977cb",
   "metadata": {
    "scrolled": true
   },
   "outputs": [
    {
     "data": {
      "image/png": "[encoded data removed]",
      "text/plain": [
       "<Figure size 1350x300 with 3 Axes>"
      ]
     },
     "metadata": {},
     "output_type": "display_data"
    }
   ],
   "source": [
    "ctrj_raw = pd.read_csv(os.path.join(DATA_PATH,'10','trj','trj10.csv'), index_col=[0,1])\n",
    "\n",
    "fig, axes = plt.subplots(1,3,figsize=(9,2),dpi=150)\n",
    "\n",
    "ax = axes[0]\n",
    "ax.plot(np.array(ctrj_raw.loc[idx[:,1],\"t\"]),np.array(ctrj_raw.loc[idx[:,1],\"mux\"]))\n",
    "ax.set_title(\"$\\\\sim B_x$\")\n",
    "\n",
    "ax = axes[1]\n",
    "ax.plot(np.array(ctrj_raw.loc[idx[:,1],\"t\"]),np.array(ctrj_raw.loc[idx[:,1],\"muy\"]))\n",
    "ax.set_title(\"$\\\\sim B_y$\")\n",
    "\n",
    "ax = axes[2]\n",
    "ax.plot(np.array(ctrj_raw.loc[idx[:,1],\"t\"]),np.array(ctrj_raw.loc[idx[:,1],\"muz\"]))\n",
    "ax.set_title(\"$\\\\sim B_z$\")\n",
    "\n",
    "plt.show()"
   ]
  },
  {
   "cell_type": "markdown",
   "id": "32cb313d",
   "metadata": {},
   "source": [
    "## Vertex counting"
   ]
  },
  {
   "cell_type": "code",
   "execution_count": 7,
   "id": "08d742da",
   "metadata": {},
   "outputs": [],
   "source": [
    "raw_data = pd.read_csv(os.path.join(DATA_PATH,'10','average_counts.csv'))\n",
    "types = ['I', 'II', 'III', 'IV', 'V', 'VI']"
   ]
  },
  {
   "cell_type": "code",
   "execution_count": 1,
   "id": "bc30c91a",
   "metadata": {},
   "outputs": [
    {
     "ename": "NameError",
     "evalue": "name 'plt' is not defined",
     "output_type": "error",
     "traceback": [
      "\u001b[0;31m---------------------------------------------------------------------------\u001b[0m",
      "\u001b[0;31mNameError\u001b[0m                                 Traceback (most recent call last)",
      "Cell \u001b[0;32mIn[1], line 2\u001b[0m\n\u001b[1;32m      1\u001b[0m colors \u001b[38;5;241m=\u001b[39m [\u001b[38;5;124m'\u001b[39m\u001b[38;5;124m#2200cf\u001b[39m\u001b[38;5;124m'\u001b[39m,\u001b[38;5;124m'\u001b[39m\u001b[38;5;124m#606cff\u001b[39m\u001b[38;5;124m'\u001b[39m, \u001b[38;5;124m'\u001b[39m\u001b[38;5;124m#00a92a\u001b[39m\u001b[38;5;124m'\u001b[39m, \u001b[38;5;124m'\u001b[39m\u001b[38;5;124m#5d6061\u001b[39m\u001b[38;5;124m'\u001b[39m, \u001b[38;5;124m'\u001b[39m\u001b[38;5;124m#ff514c\u001b[39m\u001b[38;5;124m'\u001b[39m,\u001b[38;5;124m'\u001b[39m\u001b[38;5;124m#ca0600\u001b[39m\u001b[38;5;124m'\u001b[39m  ]\n\u001b[0;32m----> 2\u001b[0m fig, ax \u001b[38;5;241m=\u001b[39m \u001b[43mplt\u001b[49m\u001b[38;5;241m.\u001b[39msubplots(figsize\u001b[38;5;241m=\u001b[39m(\u001b[38;5;241m10\u001b[39m,\u001b[38;5;241m5\u001b[39m))\n\u001b[1;32m      4\u001b[0m \u001b[38;5;28;01mfor\u001b[39;00m vtype, c \u001b[38;5;129;01min\u001b[39;00m \u001b[38;5;28mzip\u001b[39m(types,colors):\n\u001b[1;32m      5\u001b[0m     ax\u001b[38;5;241m.\u001b[39mplot(raw_data\u001b[38;5;241m.\u001b[39mtime\u001b[38;5;241m.\u001b[39mto_list(),raw_data[vtype],color\u001b[38;5;241m=\u001b[39mc,label\u001b[38;5;241m=\u001b[39mvtype)\n",
      "\u001b[0;31mNameError\u001b[0m: name 'plt' is not defined"
     ]
    }
   ],
   "source": [
    "colors = ['#2200cf','#606cff', '#00a92a', '#5d6061', '#ff514c','#ca0600'  ]\n",
    "fig, ax = plt.subplots(figsize=(10,5))\n",
    "\n",
    "for vtype, c in zip(types,colors):\n",
    "    ax.plot(raw_data.time.to_list(),raw_data[vtype],color=c,label=vtype)\n",
    "\n",
    "ax.set_title('Step function field on $y$ axis')\n",
    "ax.grid()\n",
    "ax.legend()\n",
    "plt.show()"
   ]
  },
  {
   "cell_type": "code",
   "execution_count": 11,
   "id": "88581368",
   "metadata": {},
   "outputs": [
    {
     "data": {
      "text/plain": [
       "0      0.000\n",
       "1      0.000\n",
       "2      0.000\n",
       "3      0.000\n",
       "4      0.000\n",
       "       ...  \n",
       "395    0.029\n",
       "396    0.029\n",
       "397    0.029\n",
       "398    0.029\n",
       "399    0.029\n",
       "Name: V, Length: 400, dtype: float64"
      ]
     },
     "execution_count": 11,
     "metadata": {},
     "output_type": "execute_result"
    }
   ],
   "source": [
    "raw_data['V']"
   ]
  },
  {
   "cell_type": "code",
   "execution_count": 12,
   "id": "cdce88f0",
   "metadata": {},
   "outputs": [
    {
     "data": {
      "text/plain": [
       "0.058"
      ]
     },
     "execution_count": 12,
     "metadata": {},
     "output_type": "execute_result"
    }
   ],
   "source": [
    "0.029*2\n"
   ]
  }
 ],
 "metadata": {
  "kernelspec": {
   "display_name": "Python 3 (ipykernel)",
   "language": "python",
   "name": "python3"
  },
  "language_info": {
   "codemirror_mode": {
    "name": "ipython",
    "version": 3
   },
   "file_extension": ".py",
   "mimetype": "text/x-python",
   "name": "python",
   "nbconvert_exporter": "python",
   "pygments_lexer": "ipython3",
   "version": "3.12.3"
  },
  "varInspector": {
   "cols": {
    "lenName": 16,
    "lenType": 16,
    "lenVar": 40
   },
   "kernels_config": {
    "python": {
     "delete_cmd_postfix": "",
     "delete_cmd_prefix": "del ",
     "library": "var_list.py",
     "varRefreshCmd": "print(var_dic_list())"
    },
    "r": {
     "delete_cmd_postfix": ") ",
     "delete_cmd_prefix": "rm(",
     "library": "var_list.r",
     "varRefreshCmd": "cat(var_dic_list()) "
    }
   },
   "types_to_exclude": [
    "module",
    "function",
    "builtin_function_or_method",
    "instance",
    "_Feature"
   ],
   "window_display": false
  }
 },
 "nbformat": 4,
 "nbformat_minor": 5
}
