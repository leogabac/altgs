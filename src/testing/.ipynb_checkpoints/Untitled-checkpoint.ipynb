{
 "cells": [
  {
   "cell_type": "code",
   "execution_count": 1,
   "id": "417c8477",
   "metadata": {},
   "outputs": [],
   "source": [
    "import sympy as smp"
   ]
  },
  {
   "cell_type": "code",
   "execution_count": 39,
   "id": "8a31f7f5",
   "metadata": {},
   "outputs": [],
   "source": [
    "a,b,r = smp.symbols('a b r')\n",
    "G, M = smp.symbols('G, M')\n",
    "f = 1 - 2*a/r - b*r**2\n",
    "f = smp.sqrt(1 - 2*G*M/r)\n",
    "fp = smp.diff(f,r)"
   ]
  },
  {
   "cell_type": "code",
   "execution_count": 40,
   "id": "68944974",
   "metadata": {},
   "outputs": [
    {
     "data": {
      "text/latex": [
       "$\\displaystyle \\frac{G M}{r^{3}}$"
      ],
      "text/plain": [
       "G*M/r**3"
      ]
     },
     "execution_count": 40,
     "metadata": {},
     "output_type": "execute_result"
    }
   ],
   "source": [
    "f * fp/r"
   ]
  },
  {
   "cell_type": "code",
   "execution_count": 35,
   "id": "bcc0a9c3",
   "metadata": {},
   "outputs": [
    {
     "data": {
      "text/latex": [
       "$\\displaystyle \\frac{G M}{2 r^{3}}$"
      ],
      "text/plain": [
       "G*M/(2*r**3)"
      ]
     },
     "execution_count": 35,
     "metadata": {},
     "output_type": "execute_result"
    }
   ],
   "source": [
    "smp.Rational(1,2)*fp/r"
   ]
  },
  {
   "cell_type": "code",
   "execution_count": 38,
   "id": "4b8d3ceb",
   "metadata": {},
   "outputs": [
    {
     "data": {
      "text/latex": [
       "$\\displaystyle \\frac{G M}{r^{2} \\left(- G M + r\\right)}$"
      ],
      "text/plain": [
       "G*M/(r**2*(-G*M + r))"
      ]
     },
     "execution_count": 38,
     "metadata": {},
     "output_type": "execute_result"
    }
   ],
   "source": [
    "(-smp.Rational(1,2)*smp.diff(fp,r)/f).simplify()"
   ]
  },
  {
   "cell_type": "code",
   "execution_count": 33,
   "id": "4eac04ec",
   "metadata": {},
   "outputs": [
    {
     "data": {
      "text/latex": [
       "$\\displaystyle \\frac{G M}{2 \\left(G M - r\\right)}$"
      ],
      "text/plain": [
       "G*M/(2*(G*M - r))"
      ]
     },
     "execution_count": 33,
     "metadata": {},
     "output_type": "execute_result"
    }
   ],
   "source": [
    "(-smp.Rational(1,2) * r * fp/f).simplify()"
   ]
  },
  {
   "cell_type": "code",
   "execution_count": 13,
   "id": "85915e6a",
   "metadata": {},
   "outputs": [
    {
     "data": {
      "text/latex": [
       "$\\displaystyle f{\\left(r \\right)}$"
      ],
      "text/plain": [
       "f(r)"
      ]
     },
     "execution_count": 13,
     "metadata": {},
     "output_type": "execute_result"
    }
   ],
   "source": [
    "f = smp.Function('f')(r)"
   ]
  },
  {
   "cell_type": "code",
   "execution_count": 17,
   "id": "50d23673",
   "metadata": {},
   "outputs": [
    {
     "data": {
      "text/latex": [
       "$\\displaystyle \\frac{\\sqrt{f{\\left(r \\right)}}}{r}$"
      ],
      "text/plain": [
       "sqrt(f(r))/r"
      ]
     },
     "execution_count": 17,
     "metadata": {},
     "output_type": "execute_result"
    }
   ],
   "source": [
    "factor = smp.sqrt(f)/r\n",
    "factor\n"
   ]
  },
  {
   "cell_type": "code",
   "execution_count": 18,
   "id": "02d566f5",
   "metadata": {},
   "outputs": [
    {
     "data": {
      "text/latex": [
       "$\\displaystyle \\frac{\\frac{d}{d r} f{\\left(r \\right)}}{2 r \\sqrt{f{\\left(r \\right)}}} - \\frac{\\sqrt{f{\\left(r \\right)}}}{r^{2}}$"
      ],
      "text/plain": [
       "Derivative(f(r), r)/(2*r*sqrt(f(r))) - sqrt(f(r))/r**2"
      ]
     },
     "execution_count": 18,
     "metadata": {},
     "output_type": "execute_result"
    }
   ],
   "source": [
    "smp.diff(factor,r)"
   ]
  }
 ],
 "metadata": {
  "kernelspec": {
   "display_name": "Python 3 (ipykernel)",
   "language": "python",
   "name": "python3"
  },
  "language_info": {
   "codemirror_mode": {
    "name": "ipython",
    "version": 3
   },
   "file_extension": ".py",
   "mimetype": "text/x-python",
   "name": "python",
   "nbconvert_exporter": "python",
   "pygments_lexer": "ipython3",
   "version": "3.12.3"
  },
  "varInspector": {
   "cols": {
    "lenName": 16,
    "lenType": 16,
    "lenVar": 40
   },
   "kernels_config": {
    "python": {
     "delete_cmd_postfix": "",
     "delete_cmd_prefix": "del ",
     "library": "var_list.py",
     "varRefreshCmd": "print(var_dic_list())"
    },
    "r": {
     "delete_cmd_postfix": ") ",
     "delete_cmd_prefix": "rm(",
     "library": "var_list.r",
     "varRefreshCmd": "cat(var_dic_list()) "
    }
   },
   "types_to_exclude": [
    "module",
    "function",
    "builtin_function_or_method",
    "instance",
    "_Feature"
   ],
   "window_display": false
  }
 },
 "nbformat": 4,
 "nbformat_minor": 5
}
