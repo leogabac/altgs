{
 "cells": [
  {
   "cell_type": "markdown",
   "id": "5b042a39",
   "metadata": {},
   "source": [
    "# Test 01"
   ]
  },
  {
   "cell_type": "code",
   "execution_count": 9,
   "id": "fdf2f595",
   "metadata": {},
   "outputs": [],
   "source": [
    "import os\n",
    "import sys\n",
    "\n",
    "import numpy as np\n",
    "import pandas as pd\n",
    "\n",
    "from tqdm import tqdm\n",
    "from IPython.display import clear_output\n",
    "\n",
    "import matplotlib.pyplot as plt\n",
    "\n",
    "sys.path.insert(0, '../../../icenumerics/')\n",
    "sys.path.insert(0, '../auxnumerics/')\n",
    "\n",
    "import icenumerics as ice\n",
    "import auxiliary as aux\n",
    "\n",
    "from parameters import params\n",
    "\n",
    "%reload_ext autoreload\n",
    "%autoreload 2\n",
    "\n",
    "ureg = ice.ureg\n",
    "idx = pd.IndexSlice"
   ]
  },
  {
   "cell_type": "code",
   "execution_count": 10,
   "id": "a9792360",
   "metadata": {},
   "outputs": [],
   "source": [
    "plt.rcParams.update({\n",
    "    \"pgf.texsystem\": \"pdflatex\",\n",
    "    'font.family': 'serif',\n",
    "    'text.usetex': True,\n",
    "    'pgf.rcfonts': False,\n",
    "})"
   ]
  },
  {
   "cell_type": "code",
   "execution_count": 11,
   "id": "87cb91eb",
   "metadata": {},
   "outputs": [],
   "source": [
    "DATA_PATH = '../../data/test10'"
   ]
  },
  {
   "cell_type": "markdown",
   "id": "2ea9b1cc",
   "metadata": {},
   "source": [
    "## Sanity check\n",
    "\n",
    "Just checking the the field profile is correct"
   ]
  },
  {
   "cell_type": "code",
   "execution_count": 12,
   "id": "f0c09890",
   "metadata": {
    "scrolled": true
   },
   "outputs": [
    {
     "data": {
      "image/png": "[encoded data removed]",
      "text/plain": [
       "<Figure size 1350x300 with 3 Axes>"
      ]
     },
     "metadata": {},
     "output_type": "display_data"
    }
   ],
   "source": [
    "ctrj_raw = pd.read_csv(os.path.join(DATA_PATH,'10','5mT/trj/trj10.csv'), index_col=[0,1])\n",
    "\n",
    "fig, axes = plt.subplots(1,3,figsize=(9,2),dpi=150)\n",
    "\n",
    "ax = axes[0]\n",
    "ax.plot(np.array(ctrj_raw.loc[idx[:,1],\"t\"]),np.array(ctrj_raw.loc[idx[:,1],\"mux\"]))\n",
    "ax.set_title(\"$\\\\sim B_x$\")\n",
    "\n",
    "ax = axes[1]\n",
    "ax.plot(np.array(ctrj_raw.loc[idx[:,1],\"t\"]),np.array(ctrj_raw.loc[idx[:,1],\"muy\"]))\n",
    "ax.set_title(\"$\\\\sim B_y$\")\n",
    "\n",
    "ax = axes[2]\n",
    "ax.plot(np.array(ctrj_raw.loc[idx[:,1],\"t\"]),np.array(ctrj_raw.loc[idx[:,1],\"muz\"]))\n",
    "ax.set_title(\"$\\\\sim B_z$\")\n",
    "\n",
    "plt.show()"
   ]
  },
  {
   "cell_type": "markdown",
   "id": "968bbf1a",
   "metadata": {},
   "source": [
    "## Vertex counting"
   ]
  },
  {
   "cell_type": "code",
   "execution_count": 22,
   "id": "5a8c3f73",
   "metadata": {
    "scrolled": true
   },
   "outputs": [],
   "source": [
    "counts = pd.read_csv(os.path.join(DATA_PATH,'10','average_counts.csv'),index_col=['field','time'])\n",
    "max_time = np.max(counts.index.get_level_values('time').unique().to_list())\n",
    "counts_at_time = counts.xs(max_time,level='time')"
   ]
  },
  {
   "cell_type": "code",
   "execution_count": 14,
   "id": "b1903caf",
   "metadata": {},
   "outputs": [
    {
     "ename": "NameError",
     "evalue": "name 'vrt_counts' is not defined",
     "output_type": "error",
     "traceback": [
      "\u001b[0;31m---------------------------------------------------------------------------\u001b[0m",
      "\u001b[0;31mNameError\u001b[0m                                 Traceback (most recent call last)",
      "Cell \u001b[0;32mIn[14], line 1\u001b[0m\n\u001b[0;32m----> 1\u001b[0m np\u001b[38;5;241m.\u001b[39msum(\u001b[43mvrt_counts\u001b[49m,axis\u001b[38;5;241m=\u001b[39m\u001b[38;5;241m1\u001b[39m)\n",
      "\u001b[0;31mNameError\u001b[0m: name 'vrt_counts' is not defined"
     ]
    }
   ],
   "source": [
    "np.sum(vrt_counts,axis=1)"
   ]
  },
  {
   "cell_type": "code",
   "execution_count": null,
   "id": "0626d707",
   "metadata": {},
   "outputs": [],
   "source": [
    "colors = ['#2200cf','#606cff', '#00a92a', '#5d6061', '#ff514c','#ca0600'  ]\n",
    "\n",
    "fig, ax = plt.subplots(figsize=(10,6))\n",
    "for i, (tp,ts) in enumerate(zip(types,vrt_counts.T)):\n",
    "    ax.plot(t, ts, color=colors[i], label=tp)\n",
    "ax.set_ylim(0,1.1)\n",
    "ax.set_xlim(0,180)\n",
    "ax.axvspan(0,60,alpha=0.05, color='red')\n",
    "ax.axvspan(60,120,alpha=0.05, color='blue')\n",
    "ax.axvspan(120,180,alpha=0.05, color='green')\n",
    "ax.legend(fontsize=15)\n",
    "ax.grid()\n",
    "plt.show()"
   ]
  },
  {
   "cell_type": "code",
   "execution_count": null,
   "id": "32299711",
   "metadata": {},
   "outputs": [],
   "source": [
    "vrt_counts.shape"
   ]
  },
  {
   "cell_type": "code",
   "execution_count": null,
   "id": "9d868eea",
   "metadata": {},
   "outputs": [],
   "source": [
    "frame = int(3600/2)\n",
    "print('Max for -4:',np.max(vrt_counts[frame,0]))\n",
    "print('Max for +4:',np.max(vrt_counts[frame,5]))\n",
    "print('Max for -2:',np.max(vrt_counts[frame,1]))\n",
    "print('Max for +2:',np.max(vrt_counts[frame,4]))"
   ]
  },
  {
   "cell_type": "code",
   "execution_count": null,
   "id": "29dc53f2",
   "metadata": {},
   "outputs": [],
   "source": []
  }
 ],
 "metadata": {
  "kernelspec": {
   "display_name": "Python 3 (ipykernel)",
   "language": "python",
   "name": "python3"
  },
  "language_info": {
   "codemirror_mode": {
    "name": "ipython",
    "version": 3
   },
   "file_extension": ".py",
   "mimetype": "text/x-python",
   "name": "python",
   "nbconvert_exporter": "python",
   "pygments_lexer": "ipython3",
   "version": "3.12.3"
  },
  "varInspector": {
   "cols": {
    "lenName": 16,
    "lenType": 16,
    "lenVar": 40
   },
   "kernels_config": {
    "python": {
     "delete_cmd_postfix": "",
     "delete_cmd_prefix": "del ",
     "library": "var_list.py",
     "varRefreshCmd": "print(var_dic_list())"
    },
    "r": {
     "delete_cmd_postfix": ") ",
     "delete_cmd_prefix": "rm(",
     "library": "var_list.r",
     "varRefreshCmd": "cat(var_dic_list()) "
    }
   },
   "types_to_exclude": [
    "module",
    "function",
    "builtin_function_or_method",
    "instance",
    "_Feature"
   ],
   "window_display": false
  }
 },
 "nbformat": 4,
 "nbformat_minor": 5
}
