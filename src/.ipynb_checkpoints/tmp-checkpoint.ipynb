{
 "cells": [
  {
   "cell_type": "markdown",
   "id": "6294d037",
   "metadata": {},
   "source": [
    "# tmp\n",
    "this is just a dump for testing"
   ]
  },
  {
   "cell_type": "code",
   "execution_count": 12,
   "id": "72998ede",
   "metadata": {},
   "outputs": [],
   "source": [
    "import os\n",
    "import sys\n",
    "\n",
    "import numpy as np\n",
    "import pandas as pd\n",
    "import matplotlib.pyplot as plt\n",
    "\n",
    "from tqdm import tqdm\n",
    "sys.path.insert(0, '../../icenumerics/')\n",
    "sys.path.insert(0, './auxnumerics/')\n",
    "sys.path.insert(0, './testing/')\n",
    "import icenumerics as ice\n",
    "\n",
    "\n",
    "from parameters import params\n",
    "import auxiliary as aux\n",
    "import montecarlo_colloids as mc\n",
    "import vertices as vrt\n",
    "\n",
    "ureg = ice.ureg\n",
    "\n",
    "%reload_ext autoreload\n",
    "%autoreload 2\n",
    "\n",
    "idx = pd.IndexSlice\n"
   ]
  },
  {
   "cell_type": "code",
   "execution_count": 4,
   "id": "e2ac0cf8",
   "metadata": {},
   "outputs": [],
   "source": [
    "plt.rcParams.update({\n",
    "    \"pgf.texsystem\": \"pdflatex\",\n",
    "    'font.family': 'serif',\n",
    "    'text.usetex': True,\n",
    "    'pgf.rcfonts': False,\n",
    "})"
   ]
  },
  {
   "cell_type": "code",
   "execution_count": 40,
   "id": "bad307c4",
   "metadata": {},
   "outputs": [],
   "source": [
    "N = 2\n",
    "a = params['lattice_constant']\n",
    "\n",
    "sp = ice.spins()\n",
    "sp.create_lattice('square', [2,3], lattice_constant=a ,border='periodic')\n",
    "\n",
    "particle = ice.particle(radius=params['particle_radius'],\n",
    "                        susceptibility=params['particle_susceptibility'],\n",
    "                        diffusion=params['particle_diffusion'],\n",
    "                        temperature=params['particle_temperature'],\n",
    "                        density=params['particle_density']\n",
    ")\n",
    "\n",
    "trap = ice.trap(trap_sep=params['trap_sep'],\n",
    "                height=params['trap_height'],\n",
    "                stiffness=params['trap_stiffness']\n",
    ")\n",
    "\n",
    "col = ice.colloidal_ice(sp, particle, trap,\n",
    "                        height_spread=params['height_spread'],\n",
    "                        susceptibility_spread=params['susceptibility_spread'],\n",
    "                        periodic=params['isperiodic']\n",
    ")\n",
    "\n",
    "col.randomize()\n",
    "col.region = np.array([[0,0,-3*(params[\"particle_radius\"]/a/N).magnitude],[1,1,3*(params[\"particle_radius\"]/a/N).magnitude]])*N*a\n",
    "\n",
    "col.to_ctrj().to_csv('array.csv')"
   ]
  },
  {
   "cell_type": "code",
   "execution_count": 122,
   "id": "b0e88115",
   "metadata": {},
   "outputs": [
    {
     "data": {
      "text/html": [
       "<div>\n",
       "<style scoped>\n",
       "    .dataframe tbody tr th:only-of-type {\n",
       "        vertical-align: middle;\n",
       "    }\n",
       "\n",
       "    .dataframe tbody tr th {\n",
       "        vertical-align: top;\n",
       "    }\n",
       "\n",
       "    .dataframe thead th {\n",
       "        text-align: right;\n",
       "    }\n",
       "</style>\n",
       "<table border=\"1\" class=\"dataframe\">\n",
       "  <thead>\n",
       "    <tr style=\"text-align: right;\">\n",
       "      <th></th>\n",
       "      <th></th>\n",
       "      <th>x</th>\n",
       "      <th>y</th>\n",
       "      <th>z</th>\n",
       "      <th>dx</th>\n",
       "      <th>dy</th>\n",
       "      <th>dz</th>\n",
       "      <th>cx</th>\n",
       "      <th>cy</th>\n",
       "      <th>cz</th>\n",
       "    </tr>\n",
       "    <tr>\n",
       "      <th>frame</th>\n",
       "      <th>id</th>\n",
       "      <th></th>\n",
       "      <th></th>\n",
       "      <th></th>\n",
       "      <th></th>\n",
       "      <th></th>\n",
       "      <th></th>\n",
       "      <th></th>\n",
       "      <th></th>\n",
       "      <th></th>\n",
       "    </tr>\n",
       "  </thead>\n",
       "  <tbody>\n",
       "    <tr>\n",
       "      <th rowspan=\"7\" valign=\"top\">0</th>\n",
       "      <th>0</th>\n",
       "      <td>15.0</td>\n",
       "      <td>30.0</td>\n",
       "      <td>0.0</td>\n",
       "      <td>-5.000000e+00</td>\n",
       "      <td>0.0</td>\n",
       "      <td>0.0</td>\n",
       "      <td>-5.000000e+00</td>\n",
       "      <td>0.0</td>\n",
       "      <td>0.0</td>\n",
       "    </tr>\n",
       "    <tr>\n",
       "      <th>1</th>\n",
       "      <td>45.0</td>\n",
       "      <td>30.0</td>\n",
       "      <td>0.0</td>\n",
       "      <td>5.000000e+00</td>\n",
       "      <td>0.0</td>\n",
       "      <td>0.0</td>\n",
       "      <td>5.000000e+00</td>\n",
       "      <td>0.0</td>\n",
       "      <td>0.0</td>\n",
       "    </tr>\n",
       "    <tr>\n",
       "      <th>2</th>\n",
       "      <td>15.0</td>\n",
       "      <td>60.0</td>\n",
       "      <td>0.0</td>\n",
       "      <td>5.000000e+00</td>\n",
       "      <td>0.0</td>\n",
       "      <td>0.0</td>\n",
       "      <td>5.000000e+00</td>\n",
       "      <td>0.0</td>\n",
       "      <td>0.0</td>\n",
       "    </tr>\n",
       "    <tr>\n",
       "      <th>3</th>\n",
       "      <td>45.0</td>\n",
       "      <td>60.0</td>\n",
       "      <td>0.0</td>\n",
       "      <td>-5.000000e+00</td>\n",
       "      <td>-0.0</td>\n",
       "      <td>-0.0</td>\n",
       "      <td>-5.000000e+00</td>\n",
       "      <td>-0.0</td>\n",
       "      <td>-0.0</td>\n",
       "    </tr>\n",
       "    <tr>\n",
       "      <th>4</th>\n",
       "      <td>30.0</td>\n",
       "      <td>15.0</td>\n",
       "      <td>0.0</td>\n",
       "      <td>3.061617e-16</td>\n",
       "      <td>-5.0</td>\n",
       "      <td>0.0</td>\n",
       "      <td>3.061617e-16</td>\n",
       "      <td>-5.0</td>\n",
       "      <td>0.0</td>\n",
       "    </tr>\n",
       "    <tr>\n",
       "      <th>5</th>\n",
       "      <td>30.0</td>\n",
       "      <td>45.0</td>\n",
       "      <td>0.0</td>\n",
       "      <td>-3.061617e-16</td>\n",
       "      <td>-5.0</td>\n",
       "      <td>-0.0</td>\n",
       "      <td>-3.061617e-16</td>\n",
       "      <td>-5.0</td>\n",
       "      <td>-0.0</td>\n",
       "    </tr>\n",
       "    <tr>\n",
       "      <th>6</th>\n",
       "      <td>30.0</td>\n",
       "      <td>75.0</td>\n",
       "      <td>0.0</td>\n",
       "      <td>3.061617e-16</td>\n",
       "      <td>-5.0</td>\n",
       "      <td>0.0</td>\n",
       "      <td>3.061617e-16</td>\n",
       "      <td>-5.0</td>\n",
       "      <td>0.0</td>\n",
       "    </tr>\n",
       "  </tbody>\n",
       "</table>\n",
       "</div>"
      ],
      "text/plain": [
       "             x     y    z            dx   dy   dz            cx   cy   cz\n",
       "frame id                                                                 \n",
       "0     0   15.0  30.0  0.0 -5.000000e+00  0.0  0.0 -5.000000e+00  0.0  0.0\n",
       "      1   45.0  30.0  0.0  5.000000e+00  0.0  0.0  5.000000e+00  0.0  0.0\n",
       "      2   15.0  60.0  0.0  5.000000e+00  0.0  0.0  5.000000e+00  0.0  0.0\n",
       "      3   45.0  60.0  0.0 -5.000000e+00 -0.0 -0.0 -5.000000e+00 -0.0 -0.0\n",
       "      4   30.0  15.0  0.0  3.061617e-16 -5.0  0.0  3.061617e-16 -5.0  0.0\n",
       "      5   30.0  45.0  0.0 -3.061617e-16 -5.0 -0.0 -3.061617e-16 -5.0 -0.0\n",
       "      6   30.0  75.0  0.0  3.061617e-16 -5.0  0.0  3.061617e-16 -5.0  0.0"
      ]
     },
     "execution_count": 122,
     "metadata": {},
     "output_type": "execute_result"
    }
   ],
   "source": [
    "trj = vrt.trj2trj(pd.read_csv('array.csv',index_col=['id']))\n",
    "trj['dx'] = trj['dx']*5\n",
    "trj['dy'] = trj['dy']*5\n",
    "trj['dz'] = trj['dz']*5\n",
    "trj"
   ]
  },
  {
   "cell_type": "code",
   "execution_count": 132,
   "id": "191e61b6",
   "metadata": {},
   "outputs": [
    {
     "data": {
      "image/png": "[encoded data removed]",
      "text/plain": [
       "<Figure size 500x500 with 1 Axes>"
      ]
     },
     "metadata": {},
     "output_type": "display_data"
    }
   ],
   "source": [
    "fig, ax = plt.subplots(figsize=(5,5))\n",
    "\n",
    "ice.draw_frame(trj, frame_no=0,\n",
    "               region=[0,60,0,90],\n",
    "               radius=params[\"particle_radius\"].magnitude,\n",
    "               cutoff=params[\"trap_sep\"].magnitude/2,\n",
    "               particle_color='#75b7ea',\n",
    "               trap_color='gray',\n",
    "               ax = ax)\n",
    "\n",
    "plt.show()"
   ]
  },
  {
   "cell_type": "code",
   "execution_count": 65,
   "id": "9d418416",
   "metadata": {},
   "outputs": [],
   "source": [
    "x = (trj['x'] + trj['cx']).to_numpy()\n",
    "y = (trj['y'] + trj['cy']).to_numpy()\n",
    "z = (trj['z'] + trj['cz']).to_numpy()"
   ]
  },
  {
   "cell_type": "code",
   "execution_count": 88,
   "id": "dcbebb45",
   "metadata": {},
   "outputs": [],
   "source": [
    "def force_dir(r,B):\n",
    "    rcb = np.cross(r,B)\n",
    "    return 2*np.cross(rcb,B) - 2*r + 5*r*np.dot(rcb,rcb)"
   ]
  },
  {
   "cell_type": "code",
   "execution_count": 158,
   "id": "7fb0493b",
   "metadata": {},
   "outputs": [
    {
     "data": {
      "text/plain": [
       "array([-1,  0,  0])"
      ]
     },
     "execution_count": 158,
     "metadata": {},
     "output_type": "execute_result"
    }
   ],
   "source": [
    "r1 = np.array([0,0,0])\n",
    "r2 = np.array([1,0,0])\n",
    "Bhat = np.array([0,0,1])\n",
    "rhat = r1-r1\n",
    "force_dir(rhat,Bhat)"
   ]
  },
  {
   "cell_type": "code",
   "execution_count": 100,
   "id": "7dbf5c90",
   "metadata": {},
   "outputs": [
    {
     "data": {
      "text/html": [
       "38879.99999999998 micrometer<sup>4</sup> piconewton"
      ],
      "text/latex": [
       "$38879.99999999998\\ \\mathrm{micrometer}^{4} \\cdot \\mathrm{piconewton}$"
      ],
      "text/plain": [
       "<Quantity(38880.0, 'piconewton * micrometer ** 4')>"
      ]
     },
     "execution_count": 100,
     "metadata": {},
     "output_type": "execute_result"
    }
   ],
   "source": [
    "positions = np.vstack([x,y,z]).T\n",
    "factor = (3*params['mu0']*params['m']**2)/(4*np.pi)\n",
    "factor = factor.to(ureg.piconewton * ureg.micrometer**4)\n",
    "factor\n"
   ]
  },
  {
   "cell_type": "code",
   "execution_count": 155,
   "id": "c7ad6491",
   "metadata": {},
   "outputs": [],
   "source": [
    "Bhat = np.array([1,0,0])\n",
    "forces = []\n",
    "for i,r1 in enumerate(positions):\n",
    "    \n",
    "    force = np.array([0,0,0])*ureg.piconewton\n",
    "    \n",
    "    for j,r2 in enumerate(positions):\n",
    "        \n",
    "        R = r1 - r2 \n",
    "        distance = np.linalg.norm(R)\n",
    "        if distance == 0:\n",
    "            continue\n",
    "           \n",
    "        rhat = R/distance \n",
    "        distance = distance*ureg.um\n",
    "        force = force + factor/distance**4 * force_dir(rhat,Bhat)\n",
    "        \n",
    "    forces.append(force.magnitude) "
   ]
  },
  {
   "cell_type": "code",
   "execution_count": 156,
   "id": "9a48b97c",
   "metadata": {},
   "outputs": [
    {
     "data": {
      "text/plain": [
       "[0.17339676191085193,\n",
       " 0.17339676191085193,\n",
       " 1.0415703968889443,\n",
       " 1.0415703968889443,\n",
       " 0.06875978176237114,\n",
       " 0.41730395023292044,\n",
       " 2.0109233739399714]"
      ]
     },
     "execution_count": 156,
     "metadata": {},
     "output_type": "execute_result"
    }
   ],
   "source": [
    "forces = np.asarray(forces)\n",
    "fdirs = np.asarray([f/np.linalg.norm(f) for f in forces])\n",
    "mags = [np.linalg.norm(f) for f in forces]\n",
    "mags"
   ]
  },
  {
   "cell_type": "code",
   "execution_count": 157,
   "id": "60cac780",
   "metadata": {},
   "outputs": [
    {
     "data": {
      "image/png": "[encoded data removed]",
      "text/plain": [
       "<Figure size 500x500 with 2 Axes>"
      ]
     },
     "metadata": {},
     "output_type": "display_data"
    }
   ],
   "source": [
    "fig, ax = plt.subplots(figsize=(5,5))\n",
    "ice.draw_frame(trj, frame_no=0,\n",
    "               region=[0,60,0,90],\n",
    "               radius=params[\"particle_radius\"].magnitude,\n",
    "               cutoff=params[\"trap_sep\"].magnitude/2,\n",
    "               particle_color='#75b7ea',\n",
    "               trap_color='gray',\n",
    "               ax = ax)\n",
    "\n",
    "#for r,f in zip(positions,forces):\n",
    "#    ax.quiver(r[0],r[1],f[0],f[1],color='red')\n",
    "\n",
    "cmap=plt.get_cmap('plasma')\n",
    "q = ax.quiver(positions[:,0],positions[:,1],fdirs[:,0],fdirs[:,1],mags,cmap=cmap)\n",
    "cbar = plt.colorbar(q, ax=ax)\n",
    "cbar.set_label('Magnitude [pN]')\n",
    "plt.show()"
   ]
  }
 ],
 "metadata": {
  "kernelspec": {
   "display_name": "Python 3 (ipykernel)",
   "language": "python",
   "name": "python3"
  },
  "language_info": {
   "codemirror_mode": {
    "name": "ipython",
    "version": 3
   },
   "file_extension": ".py",
   "mimetype": "text/x-python",
   "name": "python",
   "nbconvert_exporter": "python",
   "pygments_lexer": "ipython3",
   "version": "3.12.3"
  },
  "varInspector": {
   "cols": {
    "lenName": 16,
    "lenType": 16,
    "lenVar": 40
   },
   "kernels_config": {
    "python": {
     "delete_cmd_postfix": "",
     "delete_cmd_prefix": "del ",
     "library": "var_list.py",
     "varRefreshCmd": "print(var_dic_list())"
    },
    "r": {
     "delete_cmd_postfix": ") ",
     "delete_cmd_prefix": "rm(",
     "library": "var_list.r",
     "varRefreshCmd": "cat(var_dic_list()) "
    }
   },
   "types_to_exclude": [
    "module",
    "function",
    "builtin_function_or_method",
    "instance",
    "_Feature"
   ],
   "window_display": false
  }
 },
 "nbformat": 4,
 "nbformat_minor": 5
}
